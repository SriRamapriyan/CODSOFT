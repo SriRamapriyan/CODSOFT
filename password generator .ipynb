{
  "nbformat": 4,
  "nbformat_minor": 0,
  "metadata": {
    "colab": {
      "provenance": [],
      "authorship_tag": "ABX9TyOg/xaMXM+5IFpdzz+KlEud"
    },
    "kernelspec": {
      "name": "python3",
      "display_name": "Python 3"
    },
    "language_info": {
      "name": "python"
    }
  },
  "cells": [
    {
      "cell_type": "code",
      "execution_count": 1,
      "metadata": {
        "colab": {
          "base_uri": "https://localhost:8080/"
        },
        "id": "BLXveIv9ul9G",
        "outputId": "53d5e705-52e2-43bb-a7ba-651a84a449ba"
      },
      "outputs": [
        {
          "output_type": "stream",
          "name": "stdout",
          "text": [
            "Password Generator\n",
            "Enter the desired length of the password: 5\n",
            "Choose complexity level ('low', 'medium', 'high'): high\n",
            "Generated Password: .uQ|@\n"
          ]
        }
      ],
      "source": [
        "import random\n",
        "import string\n",
        "\n",
        "def generate_password(length, complexity):\n",
        "    if complexity == \"low\":\n",
        "        characters = string.ascii_letters\n",
        "    elif complexity == \"medium\":\n",
        "        characters = string.ascii_letters + string.digits\n",
        "    elif complexity == \"high\":\n",
        "        characters = string.ascii_letters + string.digits + string.punctuation\n",
        "    else:\n",
        "        print(\"Invalid complexity level. Please choose 'low', 'medium', or 'high'.\")\n",
        "        return None\n",
        "\n",
        "    password = ''.join(random.choice(characters) for _ in range(length))\n",
        "    return password\n",
        "\n",
        "def main():\n",
        "    print(\"Password Generator\")\n",
        "\n",
        "    # Get user input for password length\n",
        "    while True:\n",
        "        try:\n",
        "            length = int(input(\"Enter the desired length of the password: \"))\n",
        "            break\n",
        "        except ValueError:\n",
        "            print(\"Please enter a valid integer.\")\n",
        "\n",
        "    # Get user input for complexity level\n",
        "    complexity = input(\"Choose complexity level ('low', 'medium', 'high'): \").lower()\n",
        "\n",
        "    # Generate and display the password\n",
        "    password = generate_password(length, complexity)\n",
        "    if password:\n",
        "        print(\"Generated Password:\", password)\n",
        "\n",
        "if __name__ == \"__main__\":\n",
        "    main()\n"
      ]
    }
  ]
}