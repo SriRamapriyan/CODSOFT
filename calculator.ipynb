{
  "nbformat": 4,
  "nbformat_minor": 0,
  "metadata": {
    "colab": {
      "provenance": [],
      "authorship_tag": "ABX9TyN8wA20l3cpYzZJLuC6uPVV"
    },
    "kernelspec": {
      "name": "python3",
      "display_name": "Python 3"
    },
    "language_info": {
      "name": "python"
    }
  },
  "cells": [
    {
      "cell_type": "code",
      "execution_count": null,
      "metadata": {
        "colab": {
          "base_uri": "https://localhost:8080/"
        },
        "id": "xZI7tTWwtNL0",
        "outputId": "4dbfb682-0ad4-44f1-a11f-1f39e7d08682"
      },
      "outputs": [
        {
          "name": "stdout",
          "output_type": "stream",
          "text": [
            "Enter the first number: 12\n",
            "Enter the second number: 56\n",
            "Choose an operation (+, -, *, /): +\n",
            "12.0 + 56.0 = 68.0\n",
            "Do you want to perform another calculation (y/n)? y\n"
          ]
        }
      ],
      "source": [
        "def calculate():\n",
        "    # Get user input for numbers\n",
        "    num1 = float(input(\"Enter the first number: \"))\n",
        "    num2 = float(input(\"Enter the second number: \"))\n",
        "\n",
        "    # Get user input for operation\n",
        "    operation = input(\"Choose an operation (+, -, *, /): \")\n",
        "\n",
        "    # Perform the calculation based on the selected operation\n",
        "    if operation == '+':\n",
        "        result = num1 + num2\n",
        "    elif operation == '-':\n",
        "        result = num1 - num2\n",
        "    elif operation == '*':\n",
        "        result = num1 * num2\n",
        "    elif operation == '/':\n",
        "        result = num1 / num2\n",
        "    else:\n",
        "        print(\"Invalid operation\")\n",
        "        return\n",
        "\n",
        "    # Display the result\n",
        "    print(f\"{num1} {operation} {num2} = {result}\")\n",
        "\n",
        "calculate()\n",
        "\n",
        "# Check if the user wants to perform another calculation\n",
        "while True:\n",
        "    choice = input(\"Do you want to perform another calculation (y/n)? \")\n",
        "    if choice.lower() != 'y':\n",
        "        break\n",
        "    else:\n",
        "        calculate()\n"
      ]
    }
  ]
}