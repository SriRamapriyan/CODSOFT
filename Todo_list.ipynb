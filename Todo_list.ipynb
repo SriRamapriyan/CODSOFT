{
  "nbformat": 4,
  "nbformat_minor": 0,
  "metadata": {
    "colab": {
      "provenance": [],
      "authorship_tag": "ABX9TyPMS11ujHYUAq/vCpqHsvMK"
    },
    "kernelspec": {
      "name": "python3",
      "display_name": "Python 3"
    },
    "language_info": {
      "name": "python"
    }
  },
  "cells": [
    {
      "cell_type": "code",
      "execution_count": 4,
      "metadata": {
        "colab": {
          "base_uri": "https://localhost:8080/"
        },
        "id": "5at1KlhSmY1F",
        "outputId": "6331e6ac-3e35-4e79-986d-d801f97cd049"
      },
      "outputs": [
        {
          "output_type": "stream",
          "name": "stdout",
          "text": [
            "Welcome to the To-Do List Application!\n",
            "------------------------------------------\n",
            "1. Add a new task\n",
            "2. View all tasks\n",
            "3. Mark a task as complete\n",
            "4. Exit\n",
            "------------------------------------------\n",
            "Enter your choice: 4\n",
            "Thank you for using the To-Do List Application!\n"
          ]
        }
      ],
      "source": [
        "import os\n",
        "\n",
        "def clear():\n",
        "    if os.name == 'nt':\n",
        "        os.system('cls')\n",
        "    else:\n",
        "        os.system('clear')\n",
        "\n",
        "def display_menu():\n",
        "    clear()\n",
        "    print(\"Welcome to the To-Do List Application!\")\n",
        "    print(\"------------------------------------------\")\n",
        "    print(\"1. Add a new task\")\n",
        "    print(\"2. View all tasks\")\n",
        "    print(\"3. Mark a task as complete\")\n",
        "    print(\"4. Exit\")\n",
        "    print(\"------------------------------------------\")\n",
        "\n",
        "def add_task():\n",
        "    clear()\n",
        "    task_name = input(\"Enter the task name: \")\n",
        "    with open('tasks.txt', 'a') as f:\n",
        "        f.write(task_name + '\\n')\n",
        "    print(\"Task added successfully!\")\n",
        "    input(\"Press enter to continue...\")\n",
        "\n",
        "def view_tasks():\n",
        "    clear()\n",
        "    tasks = []\n",
        "    with open('tasks.txt', 'r') as f:\n",
        "        for line in f:\n",
        "            tasks.append(line.strip())\n",
        "    if not tasks:\n",
        "        print(\"No tasks found!\")\n",
        "    else:\n",
        "        print(\"Your To-Do List:\")\n",
        "        for i, task in enumerate(tasks):\n",
        "            print(f\"{i+1}. {task}\")\n",
        "    input(\"Press enter to continue...\")\n",
        "\n",
        "def mark_task_complete():\n",
        "    clear()\n",
        "    tasks = []\n",
        "    with open('tasks.txt', 'r') as f:\n",
        "        for line in f:\n",
        "            tasks.append(line.strip())\n",
        "    if not tasks:\n",
        "        print(\"No tasks found!\")\n",
        "        input(\"Press enter to continue...\")\n",
        "        return\n",
        "    print(\"Your To-Do List:\")\n",
        "    for i, task in enumerate(tasks):\n",
        "        print(f\"{i+1}. {task}\")\n",
        "    task_index = int(input(\"Enter the task number to mark as complete: \")) - 1\n",
        "    if task_index < 0 or task_index >= len(tasks):\n",
        "        print(\"Invalid task number!\")\n",
        "        input(\"Press enter to continue...\")\n",
        "        return\n",
        "    tasks.pop(task_index)\n",
        "    with open('tasks.txt', 'w') as f:\n",
        "        for task in tasks:\n",
        "            f.write(task + '\\n')\n",
        "    print(\"Task marked as complete!\")\n",
        "    input(\"Press enter to continue...\")\n",
        "\n",
        "def main():\n",
        "    while True:\n",
        "        display_menu()\n",
        "        choice = int(input(\"Enter your choice: \"))\n",
        "        if choice == 1:\n",
        "            add_task()\n",
        "        elif choice == 2:\n",
        "            view_tasks()\n",
        "        elif choice == 3:\n",
        "            mark_task_complete()\n",
        "        elif choice == 4:\n",
        "            clear()\n",
        "            print(\"Thank you for using the To-Do List Application!\")\n",
        "            break\n",
        "        else:\n",
        "            clear()\n",
        "            print(\"Invalid choice!\")\n",
        "            input(\"Press enter to continue...\")\n",
        "\n",
        "if __name__ == \"__main__\":\n",
        "    main()"
      ]
    }
  ]
}